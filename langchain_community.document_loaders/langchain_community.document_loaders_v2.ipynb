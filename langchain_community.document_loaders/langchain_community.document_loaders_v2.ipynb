{
 "cells": [
  {
   "cell_type": "markdown",
   "id": "dbfcf457",
   "metadata": {},
   "source": [
    "# 文档处理器\n",
    "用于批量处理不同格式的文档，支持：\n",
    "- PDF, TXT, CSV, DOC, DOCX, JSON 文件\n",
    "- ZIP, 7Z 压缩包"
   ]
  },
  {
   "cell_type": "markdown",
   "id": "872d88fa",
   "metadata": {},
   "source": [
    "## 导入必要的模块"
   ]
  },
  {
   "cell_type": "code",
   "execution_count": null,
   "id": "33ac9fc9",
   "metadata": {},
   "outputs": [],
   "source": [
    "from langchain_community.document_loaders import (\n",
    "    UnstructuredWordDocumentLoader, CSVLoader, PyPDFLoader,\n",
    "    TextLoader, JSONLoader, Docx2txtLoader,\n",
    ")\n",
    "import os, json, zipfile, tempfile\n",
    "import py7zr\n",
    "from datetime import datetime\n",
    "from typing import Dict, Any, List\n",
    "import threading, _thread\n",
    "from tqdm import tqdm"
   ]
  },
  {
   "cell_type": "markdown",
   "id": "bd49d15e",
   "metadata": {},
   "source": [
    "## DocumentProcessor 类定义"
   ]
  },
  {
   "cell_type": "code",
   "execution_count": null,
   "id": "8e77958d",
   "metadata": {},
   "outputs": [],
   "source": [
    "class DocumentProcessor:\n",
    "    def __init__(self, input_dir: str, output_dir: str):\n",
    "        self.input_dir = input_dir\n",
    "        self.output_dir = output_dir\n",
    "        self.supported_formats = {\n",
    "            'pdf': PyPDFLoader, 'txt': TextLoader, 'csv': CSVLoader,\n",
    "            'doc': UnstructuredWordDocumentLoader, 'docx': Docx2txtLoader,\n",
    "            'json': lambda path: JSONLoader(path, jq_schema='.', text_content=False)\n",
    "        }\n",
    "        [os.makedirs(os.path.join(output_dir, fmt), exist_ok=True) \n",
    "         for fmt in {**self.supported_formats, 'zip': None, '7z': None}]\n",
    "\n",
    "    def process_file(self, file_path: str) -> Dict[str, Any]:\n",
    "        file_ext = file_path.split('.')[-1].lower()\n",
    "        \n",
    "        if file_ext in ['zip', '7z']:\n",
    "            results = []\n",
    "            with tempfile.TemporaryDirectory() as temp_dir:\n",
    "                if file_ext == 'zip':\n",
    "                    with zipfile.ZipFile(file_path, 'r') as zip_ref:\n",
    "                        zip_ref.extractall(temp_dir)\n",
    "                else:  # 7z\n",
    "                    with py7zr.SevenZipFile(file_path, 'r') as sz_ref:\n",
    "                        sz_ref.extractall(temp_dir)\n",
    "                        \n",
    "                for root, _, files in os.walk(temp_dir):\n",
    "                    results.extend([\n",
    "                        result for file in files \n",
    "                        if (result := self.process_file(os.path.join(root, file)))\n",
    "                    ])\n",
    "            return {'content': results, 'file_type': file_ext, 'original_path': file_path}\n",
    "        \n",
    "        if file_ext not in self.supported_formats:\n",
    "            return None\n",
    "\n",
    "        try:\n",
    "            timer = threading.Timer(120, _thread.interrupt_main)\n",
    "            timer.start()\n",
    "            try:\n",
    "                loader = self.supported_formats[file_ext](file_path)\n",
    "                documents = loader.load()\n",
    "                return {\n",
    "                    'content': documents,\n",
    "                    'file_type': file_ext,\n",
    "                    'original_path': file_path\n",
    "                }\n",
    "            finally:\n",
    "                timer.cancel()\n",
    "        except Exception as e:\n",
    "            print(f\"处理文件 {file_path} 失败: {type(e).__name__} - {str(e)}\")\n",
    "            print(f\"文件大小: {os.path.getsize(file_path) / 1024:.2f} KB\")\n",
    "            return None\n",
    "\n",
    "    def save_result(self, result: Dict[str, Any]) -> bool:\n",
    "        if not result:\n",
    "            return False\n",
    "        try:\n",
    "            timestamp = datetime.now().strftime(\"%Y%m%d_%H%M%S\")\n",
    "            output_path = os.path.join(\n",
    "                self.output_dir, result['file_type'],\n",
    "                f\"{os.path.basename(result['original_path'])}_{timestamp}.json\"\n",
    "            )\n",
    "            with open(output_path, 'w', encoding='utf-8') as f:\n",
    "                json.dump({\n",
    "                    'original_file': result['original_path'],\n",
    "                    'processed_time': timestamp,\n",
    "                    'documents': [{\n",
    "                        'content': doc.page_content,\n",
    "                        'metadata': doc.metadata\n",
    "                    } for doc in result['content']]\n",
    "                }, f, ensure_ascii=False, indent=2)\n",
    "            return True\n",
    "        except Exception as e:\n",
    "            print(f\"保存结果时出错: {str(e)}\")\n",
    "            return False\n",
    "\n",
    "    def process_directory(self):\n",
    "        supported_files = [\n",
    "            (root, file) for root, _, files in os.walk(self.input_dir)\n",
    "            for file in files \n",
    "            if file.split('.')[-1].lower() in {**self.supported_formats, 'zip': None, '7z': None}\n",
    "        ]\n",
    "        total_files = sum(1 for _ in os.walk(self.input_dir) for _ in _[2])\n",
    "        success_count = failed_count = 0\n",
    "        \n",
    "        with tqdm(total=len(supported_files), desc=\"处理文件\") as pbar:\n",
    "            for root, file in supported_files:\n",
    "                file_path = os.path.join(root, file)\n",
    "                pbar.set_postfix_str(f\"正在处理: {file}\")\n",
    "                \n",
    "                if result := self.process_file(file_path):\n",
    "                    if isinstance(result['content'], list) and all(isinstance(x, dict) for x in result['content']):\n",
    "                        success_count += sum(bool(self.save_result(zip_result)) for zip_result in result['content'])\n",
    "                    else:\n",
    "                        success_count += bool(self.save_result(result))\n",
    "                else:\n",
    "                    failed_count += 1\n",
    "                pbar.update(1)\n",
    "        \n",
    "        print(f\"\\n处理完成：\")\n",
    "        print(f\"总文件数：{total_files}\")\n",
    "        print(f\"成功：{success_count}\")\n",
    "        print(f\"失败：{failed_count}\")\n",
    "        print(f\"跳过：{total_files - len(supported_files)}\")"
   ]
  },
  {
   "cell_type": "markdown",
   "id": "1e1b837d",
   "metadata": {},
   "source": [
    "## 使用示例"
   ]
  },
  {
   "cell_type": "code",
   "execution_count": null,
   "id": "41794a63",
   "metadata": {},
   "outputs": [],
   "source": [
    "processor = DocumentProcessor(\n",
    "    \"d:\\\\project\\\\data_clean\\\\input\",\n",
    "    \"d:\\\\project\\\\data_clean\\\\output\"\n",
    ")\n",
    "processor.process_directory()"
   ]
  },
  {
   "cell_type": "code",
   "execution_count": null,
   "id": "e0eb43b5",
   "metadata": {},
   "outputs": [],
   "source": []
  }
 ],
 "metadata": {
  "kernelspec": {
   "display_name": "pytorch",
   "language": "python",
   "name": "python3"
  },
  "language_info": {
   "codemirror_mode": {
    "name": "ipython",
    "version": 3
   },
   "file_extension": ".py",
   "mimetype": "text/x-python",
   "name": "python",
   "nbconvert_exporter": "python",
   "pygments_lexer": "ipython3",
   "version": "3.12.3"
  }
 },
 "nbformat": 4,
 "nbformat_minor": 5
}
